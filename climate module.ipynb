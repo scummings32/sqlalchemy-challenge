{
 "cells": [
  {
   "cell_type": "code",
   "execution_count": 1,
   "metadata": {},
   "outputs": [],
   "source": [
    "%matplotlib inline\n",
    "from matplotlib import style\n",
    "style.use('fivethirtyeight')\n",
    "import matplotlib.pyplot as plt"
   ]
  },
  {
   "cell_type": "code",
   "execution_count": 2,
   "metadata": {},
   "outputs": [],
   "source": [
    "import numpy as np\n",
    "import pandas as pd\n",
    "import datetime as dt"
   ]
  },
  {
   "cell_type": "markdown",
   "metadata": {},
   "source": [
    "# Reflect Tables into SQLAlchemy ORM"
   ]
  },
  {
   "cell_type": "code",
   "execution_count": 3,
   "metadata": {},
   "outputs": [],
   "source": [
    "# Python SQL toolkit and Object Relational Mapper\n",
    "import sqlalchemy\n",
    "from sqlalchemy.ext.automap import automap_base\n",
    "from sqlalchemy.orm import Session\n",
    "from sqlalchemy import create_engine, func"
   ]
  },
  {
   "cell_type": "code",
   "execution_count": 4,
   "metadata": {},
   "outputs": [],
   "source": [
    "# create engine to hawaii.sqlite\n",
    "engine = create_engine(\"sqlite:///Resources/hawaii.sqlite\")"
   ]
  },
  {
   "cell_type": "code",
   "execution_count": 5,
   "metadata": {},
   "outputs": [
    {
     "data": {
      "text/plain": [
       "['measurement', 'station']"
      ]
     },
     "execution_count": 5,
     "metadata": {},
     "output_type": "execute_result"
    }
   ],
   "source": [
    "# reflect an existing database into a new model\n",
    "Base = automap_base()\n",
    "Base.prepare(autoload_with=engine)\n",
    "\n",
    "# reflect the tables\n",
    "Base.classes.keys()\n"
   ]
  },
  {
   "cell_type": "code",
   "execution_count": 7,
   "metadata": {},
   "outputs": [
    {
     "name": "stdout",
     "output_type": "stream",
     "text": [
      "<sqlalchemy.ext.automap.measurement object at 0x14d5d3c50>\n",
      "<sqlalchemy.ext.automap.measurement object at 0x14d5d3c20>\n",
      "<sqlalchemy.ext.automap.measurement object at 0x14d5d2120>\n",
      "<sqlalchemy.ext.automap.measurement object at 0x14d5d1100>\n",
      "<sqlalchemy.ext.automap.measurement object at 0x14d5d3cb0>\n",
      "<sqlalchemy.ext.automap.measurement object at 0x14d5d3ce0>\n",
      "<sqlalchemy.ext.automap.measurement object at 0x14d5d3d40>\n",
      "<sqlalchemy.ext.automap.measurement object at 0x14d5d3d70>\n",
      "<sqlalchemy.ext.automap.measurement object at 0x14d5d3d10>\n",
      "<sqlalchemy.ext.automap.measurement object at 0x14d5d3dd0>\n"
     ]
    }
   ],
   "source": [
    "# View all of the classes that automap found\n",
    "measure = Base.classes.measurement\n",
    "\n",
    "\n",
    "session = Session(engine)\n",
    "results = session.query(measure).limit(10).all()\n",
    "\n",
    "for result in results:\n",
    "    print(result)"
   ]
  },
  {
   "cell_type": "code",
   "execution_count": 9,
   "metadata": {},
   "outputs": [
    {
     "ename": "NameError",
     "evalue": "name 'inspect' is not defined",
     "output_type": "error",
     "traceback": [
      "\u001b[0;31m---------------------------------------------------------------------------\u001b[0m",
      "\u001b[0;31mNameError\u001b[0m                                 Traceback (most recent call last)",
      "Cell \u001b[0;32mIn[9], line 1\u001b[0m\n\u001b[0;32m----> 1\u001b[0m inspector \u001b[38;5;241m=\u001b[39m inspect(engine)\n\u001b[1;32m      2\u001b[0m inspector\u001b[38;5;241m.\u001b[39mget_table_names()\n\u001b[1;32m      4\u001b[0m \u001b[38;5;66;03m# Get a list of column names and types\u001b[39;00m\n",
      "\u001b[0;31mNameError\u001b[0m: name 'inspect' is not defined"
     ]
    }
   ],
   "source": [
    "inspector = inspect(engine)\n",
    "inspector.get_table_names()\n",
    "\n",
    "# Get a list of column names and types\n",
    "columns = inspector.get_columns('measurement')\n",
    "for c in columns:\n",
    "    print(c['name'], c[\"type\"])\n",
    "# columns"
   ]
  },
  {
   "cell_type": "code",
   "execution_count": 10,
   "metadata": {},
   "outputs": [
    {
     "ename": "NameError",
     "evalue": "name 'inspector' is not defined",
     "output_type": "error",
     "traceback": [
      "\u001b[0;31m---------------------------------------------------------------------------\u001b[0m",
      "\u001b[0;31mNameError\u001b[0m                                 Traceback (most recent call last)",
      "Cell \u001b[0;32mIn[10], line 2\u001b[0m\n\u001b[1;32m      1\u001b[0m \u001b[38;5;66;03m# Get a list of column names and types\u001b[39;00m\n\u001b[0;32m----> 2\u001b[0m columns \u001b[38;5;241m=\u001b[39m inspector\u001b[38;5;241m.\u001b[39mget_columns(\u001b[38;5;124m'\u001b[39m\u001b[38;5;124mstation\u001b[39m\u001b[38;5;124m'\u001b[39m)\n\u001b[1;32m      3\u001b[0m \u001b[38;5;28;01mfor\u001b[39;00m c \u001b[38;5;129;01min\u001b[39;00m columns:\n\u001b[1;32m      4\u001b[0m     \u001b[38;5;28mprint\u001b[39m(c[\u001b[38;5;124m'\u001b[39m\u001b[38;5;124mname\u001b[39m\u001b[38;5;124m'\u001b[39m], c[\u001b[38;5;124m\"\u001b[39m\u001b[38;5;124mtype\u001b[39m\u001b[38;5;124m\"\u001b[39m])\n",
      "\u001b[0;31mNameError\u001b[0m: name 'inspector' is not defined"
     ]
    }
   ],
   "source": [
    "# Get a list of column names and types\n",
    "columns = inspector.get_columns('station')\n",
    "for c in columns:\n",
    "    print(c['name'], c[\"type\"])"
   ]
  },
  {
   "cell_type": "code",
   "execution_count": 11,
   "metadata": {},
   "outputs": [],
   "source": [
    "# Save references to each table\n",
    "station = Base.classes.station"
   ]
  },
  {
   "cell_type": "code",
   "execution_count": 12,
   "metadata": {},
   "outputs": [],
   "source": [
    "# Create our session (link) from Python to the DB\n",
    "session = Session(engine)"
   ]
  },
  {
   "cell_type": "markdown",
   "metadata": {},
   "source": [
    "# Exploratory Precipitation Analysis"
   ]
  },
  {
   "cell_type": "code",
   "execution_count": 14,
   "metadata": {},
   "outputs": [
    {
     "data": {
      "text/plain": [
       "'2017-08-23'"
      ]
     },
     "execution_count": 14,
     "metadata": {},
     "output_type": "execute_result"
    }
   ],
   "source": [
    "# Find the most recent date in the data set.\n",
    "session.query(measure.date).order_by(measure.date.desc()).first()[0]"
   ]
  },
  {
   "cell_type": "code",
   "execution_count": 15,
   "metadata": {},
   "outputs": [
    {
     "data": {
      "image/png": "[encoded data removed]",
      "text/plain": [
       "<Figure size 1000x600 with 1 Axes>"
      ]
     },
     "metadata": {},
     "output_type": "display_data"
    }
   ],
   "source": [
    "# Design a query to retrieve the last 12 months of precipitation data and plot the results. \n",
    "# Starting from the most recent data point in the database. \n",
    "\n",
    "# Calculate the date one year from the last date in data set.\n",
    "latest_date = session.query(measure.date).order_by(measure.date.desc()).first()[0]\n",
    "latest_date = dt.datetime.strptime(latest_date, '%Y-%m-%d')\n",
    "one_year_ago = latest_date - dt.timedelta(days=365)\n",
    "\n",
    "# Perform a query to retrieve the data and precipitation scores\n",
    "precipitation_data = session.query(measure.date, measure.prcp).\\\n",
    "    filter(measure.date >= one_year_ago).\\\n",
    "    order_by(measure.date).all()\n",
    "\n",
    "# Save the query results as a Pandas DataFrame. Explicitly set the column names\n",
    "precipitation_df = pd.DataFrame(precipitation_data, columns=['Date', 'Precipitation'])\n",
    "\n",
    "# Sort the dataframe by date\n",
    "precipitation_df.sort_values('Date', inplace=True)\n",
    "\n",
    "# Use Pandas Plotting with Matplotlib to plot the data\n",
    "precipitation_df.set_index('Date', inplace=True)\n",
    "precipitation_df.plot(figsize=(10, 6), title=\"Precipitation in the Last 12 Months\", ylabel=\"Precipitation (inches)\")\n",
    "plt.xticks(rotation=90)\n",
    "plt.tight_layout()\n",
    "plt.show()"
   ]
  },
  {
   "cell_type": "code",
   "execution_count": 16,
   "metadata": {},
   "outputs": [
    {
     "name": "stdout",
     "output_type": "stream",
     "text": [
      "       Precipitation\n",
      "count    2015.000000\n",
      "mean        0.176462\n",
      "std         0.460288\n",
      "min         0.000000\n",
      "25%         0.000000\n",
      "50%         0.020000\n",
      "75%         0.130000\n",
      "max         6.700000\n"
     ]
    }
   ],
   "source": [
    "# Use Pandas to calculate the summary statistics for the precipitation data\n",
    "summary_statistics = precipitation_df.describe()\n",
    "\n",
    "print(summary_statistics)"
   ]
  },
  {
   "cell_type": "markdown",
   "metadata": {},
   "source": [
    "# Exploratory Station Analysis"
   ]
  },
  {
   "cell_type": "code",
   "execution_count": 17,
   "metadata": {},
   "outputs": [
    {
     "data": {
      "text/plain": [
       "9"
      ]
     },
     "execution_count": 17,
     "metadata": {},
     "output_type": "execute_result"
    }
   ],
   "source": [
    "# Design a query to calculate the total number of stations in the dataset\n",
    "session.query(func.count(station.station)).scalar()"
   ]
  },
  {
   "cell_type": "code",
   "execution_count": 18,
   "metadata": {},
   "outputs": [
    {
     "ename": "NameError",
     "evalue": "name 'measurement' is not defined",
     "output_type": "error",
     "traceback": [
      "\u001b[0;31m---------------------------------------------------------------------------\u001b[0m",
      "\u001b[0;31mNameError\u001b[0m                                 Traceback (most recent call last)",
      "Cell \u001b[0;32mIn[18], line 3\u001b[0m\n\u001b[1;32m      1\u001b[0m \u001b[38;5;66;03m# Design a query to find the most active stations (i.e. which stations have the most rows?)\u001b[39;00m\n\u001b[1;32m      2\u001b[0m \u001b[38;5;66;03m# List the stations and their counts in descending order.\u001b[39;00m\n\u001b[0;32m----> 3\u001b[0m active_stations \u001b[38;5;241m=\u001b[39m session\u001b[38;5;241m.\u001b[39mquery(measurement\u001b[38;5;241m.\u001b[39mstation, func\u001b[38;5;241m.\u001b[39mcount(measurement\u001b[38;5;241m.\u001b[39mstation))\u001b[38;5;241m.\u001b[39m\\\n\u001b[1;32m      4\u001b[0m     group_by(measurement\u001b[38;5;241m.\u001b[39mstation)\u001b[38;5;241m.\u001b[39m\\\n\u001b[1;32m      5\u001b[0m     order_by(func\u001b[38;5;241m.\u001b[39mcount(measurement\u001b[38;5;241m.\u001b[39mstation)\u001b[38;5;241m.\u001b[39mdesc())\u001b[38;5;241m.\u001b[39mall()\n\u001b[1;32m      7\u001b[0m \u001b[38;5;28;01mfor\u001b[39;00m station, count \u001b[38;5;129;01min\u001b[39;00m active_stations:\n\u001b[1;32m      8\u001b[0m     \u001b[38;5;28mprint\u001b[39m(\u001b[38;5;124mf\u001b[39m\u001b[38;5;124m\"\u001b[39m\u001b[38;5;124mStation: \u001b[39m\u001b[38;5;132;01m{\u001b[39;00mstation\u001b[38;5;132;01m}\u001b[39;00m\u001b[38;5;124m, Count: \u001b[39m\u001b[38;5;132;01m{\u001b[39;00mcount\u001b[38;5;132;01m}\u001b[39;00m\u001b[38;5;124m\"\u001b[39m)\n",
      "\u001b[0;31mNameError\u001b[0m: name 'measurement' is not defined"
     ]
    }
   ],
   "source": [
    "# Design a query to find the most active stations (i.e. which stations have the most rows?)\n",
    "# List the stations and their counts in descending order.\n",
    "active_stations = session.query(measurement.station, func.count(measurement.station)).\\\n",
    "    group_by(measurement.station).\\\n",
    "    order_by(func.count(measurement.station).desc()).all()\n",
    "\n",
    "for station, count in active_stations:\n",
    "    print(f\"Station: {station}, Count: {count}\")"
   ]
  },
  {
   "cell_type": "code",
   "execution_count": 19,
   "metadata": {},
   "outputs": [
    {
     "ename": "NameError",
     "evalue": "name 'active_stations' is not defined",
     "output_type": "error",
     "traceback": [
      "\u001b[0;31m---------------------------------------------------------------------------\u001b[0m",
      "\u001b[0;31mNameError\u001b[0m                                 Traceback (most recent call last)",
      "Cell \u001b[0;32mIn[19], line 2\u001b[0m\n\u001b[1;32m      1\u001b[0m \u001b[38;5;66;03m# Using the most active station id from the previous query, calculate the lowest, highest, and average temperature.\u001b[39;00m\n\u001b[0;32m----> 2\u001b[0m most_active_station \u001b[38;5;241m=\u001b[39m active_stations[\u001b[38;5;241m0\u001b[39m][\u001b[38;5;241m0\u001b[39m]\n\u001b[1;32m      4\u001b[0m \u001b[38;5;66;03m# Calculate the lowest, highest, and average temperature for the most active station\u001b[39;00m\n\u001b[1;32m      5\u001b[0m temperature_stats \u001b[38;5;241m=\u001b[39m session\u001b[38;5;241m.\u001b[39mquery(\n\u001b[1;32m      6\u001b[0m     func\u001b[38;5;241m.\u001b[39mmin(measurement\u001b[38;5;241m.\u001b[39mtobs),\n\u001b[1;32m      7\u001b[0m     func\u001b[38;5;241m.\u001b[39mmax(measurement\u001b[38;5;241m.\u001b[39mtobs),\n\u001b[1;32m      8\u001b[0m     func\u001b[38;5;241m.\u001b[39mavg(measurement\u001b[38;5;241m.\u001b[39mtobs)\n\u001b[1;32m      9\u001b[0m )\u001b[38;5;241m.\u001b[39mfilter(measurement\u001b[38;5;241m.\u001b[39mstation \u001b[38;5;241m==\u001b[39m most_active_station)\u001b[38;5;241m.\u001b[39mall()\n",
      "\u001b[0;31mNameError\u001b[0m: name 'active_stations' is not defined"
     ]
    }
   ],
   "source": [
    "# Using the most active station id from the previous query, calculate the lowest, highest, and average temperature.\n",
    "most_active_station = active_stations[0][0]\n",
    "\n",
    "# Calculate the lowest, highest, and average temperature for the most active station\n",
    "temperature_stats = session.query(\n",
    "    func.min(measurement.tobs),\n",
    "    func.max(measurement.tobs),\n",
    "    func.avg(measurement.tobs)\n",
    ").filter(measurement.station == most_active_station).all()\n",
    "\n",
    "print(temperature_stats)"
   ]
  },
  {
   "cell_type": "code",
   "execution_count": 20,
   "metadata": {},
   "outputs": [
    {
     "ename": "NameError",
     "evalue": "name 'measurement' is not defined",
     "output_type": "error",
     "traceback": [
      "\u001b[0;31m---------------------------------------------------------------------------\u001b[0m",
      "\u001b[0;31mNameError\u001b[0m                                 Traceback (most recent call last)",
      "Cell \u001b[0;32mIn[20], line 3\u001b[0m\n\u001b[1;32m      1\u001b[0m \u001b[38;5;66;03m# Using the most active station id\u001b[39;00m\n\u001b[1;32m      2\u001b[0m \u001b[38;5;66;03m# Query the last 12 months of temperature observation data for this station and plot the results as a histogram\u001b[39;00m\n\u001b[0;32m----> 3\u001b[0m temperature_data \u001b[38;5;241m=\u001b[39m session\u001b[38;5;241m.\u001b[39mquery(measurement\u001b[38;5;241m.\u001b[39mdate, measurement\u001b[38;5;241m.\u001b[39mtobs)\u001b[38;5;241m.\u001b[39m\\\n\u001b[1;32m      4\u001b[0m     \u001b[38;5;28mfilter\u001b[39m(measurement\u001b[38;5;241m.\u001b[39mstation \u001b[38;5;241m==\u001b[39m most_active_station)\u001b[38;5;241m.\u001b[39m\\\n\u001b[1;32m      5\u001b[0m     \u001b[38;5;28mfilter\u001b[39m(measurement\u001b[38;5;241m.\u001b[39mdate \u001b[38;5;241m>\u001b[39m\u001b[38;5;241m=\u001b[39m one_year_ago)\u001b[38;5;241m.\u001b[39m\\\n\u001b[1;32m      6\u001b[0m     order_by(measurement\u001b[38;5;241m.\u001b[39mdate)\u001b[38;5;241m.\u001b[39mall()\n\u001b[1;32m      8\u001b[0m \u001b[38;5;66;03m# Save the query results as a Pandas DataFrame\u001b[39;00m\n\u001b[1;32m      9\u001b[0m temperature_df \u001b[38;5;241m=\u001b[39m pd\u001b[38;5;241m.\u001b[39mDataFrame(temperature_data, columns\u001b[38;5;241m=\u001b[39m[\u001b[38;5;124m'\u001b[39m\u001b[38;5;124mDate\u001b[39m\u001b[38;5;124m'\u001b[39m, \u001b[38;5;124m'\u001b[39m\u001b[38;5;124mTemperature\u001b[39m\u001b[38;5;124m'\u001b[39m])\n",
      "\u001b[0;31mNameError\u001b[0m: name 'measurement' is not defined"
     ]
    }
   ],
   "source": [
    "# Using the most active station id\n",
    "# Query the last 12 months of temperature observation data for this station and plot the results as a histogram\n",
    "temperature_data = session.query(measurement.date, measurement.tobs).\\\n",
    "    filter(measurement.station == most_active_station).\\\n",
    "    filter(measurement.date >= one_year_ago).\\\n",
    "    order_by(measurement.date).all()\n",
    "\n",
    "# Save the query results as a Pandas DataFrame\n",
    "temperature_df = pd.DataFrame(temperature_data, columns=['Date', 'Temperature'])\n",
    "\n",
    "# Plot the results as a histogram\n",
    "temperature_df['Temperature'].plot(kind='hist', bins=12, figsize=(10, 6), title=\"Temperature Observations for the Last 12 Months\")\n",
    "plt.xlabel('Temperature')\n",
    "plt.ylabel('Frequency')\n",
    "plt.legend()\n",
    "plt.tight_layout()\n",
    "plt.show()"
   ]
  },
  {
   "cell_type": "markdown",
   "metadata": {},
   "source": [
    "# Close Session"
   ]
  },
  {
   "cell_type": "code",
   "execution_count": 16,
   "metadata": {},
   "outputs": [],
   "source": [
    "# Close Session\n",
    "session.close()"
   ]
  },
  {
   "cell_type": "code",
   "execution_count": null,
   "metadata": {},
   "outputs": [],
   "source": []
  }
 ],
 "metadata": {
  "anaconda-cloud": {},
  "kernel_info": {
   "name": "python3"
  },
  "kernelspec": {
   "display_name": "Python 3 (ipykernel)",
   "language": "python",
   "name": "python3"
  },
  "language_info": {
   "codemirror_mode": {
    "name": "ipython",
    "version": 3
   },
   "file_extension": ".py",
   "mimetype": "text/x-python",
   "name": "python",
   "nbconvert_exporter": "python",
   "pygments_lexer": "ipython3",
   "version": "3.12.4"
  },
  "nteract": {
   "version": "0.12.3"
  },
  "varInspector": {
   "cols": {
    "lenName": 16,
    "lenType": 16,
    "lenVar": 40
   },
   "kernels_config": {
    "python": {
     "delete_cmd_postfix": "",
     "delete_cmd_prefix": "del ",
     "library": "var_list.py",
     "varRefreshCmd": "print(var_dic_list())"
    },
    "r": {
     "delete_cmd_postfix": ") ",
     "delete_cmd_prefix": "rm(",
     "library": "var_list.r",
     "varRefreshCmd": "cat(var_dic_list()) "
    }
   },
   "types_to_exclude": [
    "module",
    "function",
    "builtin_function_or_method",
    "instance",
    "_Feature"
   ],
   "window_display": false
  }
 },
 "nbformat": 4,
 "nbformat_minor": 4
}
